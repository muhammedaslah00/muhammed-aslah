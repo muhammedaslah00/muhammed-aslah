{
  "nbformat": 4,
  "nbformat_minor": 0,
  "metadata": {
    "colab": {
      "provenance": []
    },
    "kernelspec": {
      "name": "python3",
      "display_name": "Python 3"
    },
    "language_info": {
      "name": "python"
    }
  },
  "cells": [
    {
      "cell_type": "code",
      "execution_count": null,
      "metadata": {
        "id": "66IUmOhj89-I"
      },
      "outputs": [],
      "source": []
    },
    {
      "cell_type": "code",
      "source": [
        "'''2=Write a Python function to find the maximum of three numbers'''\n",
        "a=int(input('Enter the first number:'))\n",
        "b=int(input('Enter the second number:'))\n",
        "c=int(input(\"Enter the therd number:\"))\n",
        "def largest(a,b,c):\n",
        "  if a>b and a>c:\n",
        "    print(a,\"is largest number\")\n",
        "  elif b>a and b>c:\n",
        "    print(b,\"is largest number\")\n",
        "  else:\n",
        "    print(c,\"is largest number\")\n",
        "largest(a,b,c)"
      ],
      "metadata": {
        "colab": {
          "base_uri": "https://localhost:8080/"
        },
        "id": "ibtCyiuAKV3b",
        "outputId": "dc240d92-77c0-44b0-c264-cadbf68e06bb"
      },
      "execution_count": 3,
      "outputs": [
        {
          "output_type": "stream",
          "name": "stdout",
          "text": [
            "Enter the first number:15\n",
            "Enter the second number:45\n",
            "Enter the therd number:66\n",
            "66 is largest number\n"
          ]
        }
      ]
    },
    {
      "cell_type": "code",
      "source": [
        "'''3=Write a Python function called exponent(base,exp) that returns an integer\n",
        "value of base raises to the power of exp. '''\n",
        "\n",
        "def exponent(base,exp):\n",
        "  return(base**exp)\n",
        "\n",
        "base=int(input('enter the value for BASE : '))\n",
        "exp=int(input(\"enter the value for EXPONENT : \"))\n",
        "\n",
        "print(\"base raise to exponent\",exponent(base,exp))"
      ],
      "metadata": {
        "colab": {
          "base_uri": "https://localhost:8080/"
        },
        "id": "7nAfFOp9MRO1",
        "outputId": "b4fb96df-0559-4c73-f0b7-24e824a5a395"
      },
      "execution_count": 7,
      "outputs": [
        {
          "output_type": "stream",
          "name": "stdout",
          "text": [
            "enter the value for BASE : 2\n",
            "enter the value for EXPONENT : 3\n",
            "base raise to exponent 8\n"
          ]
        }
      ]
    },
    {
      "cell_type": "code",
      "source": [
        "'''4-Write a Python function that takes a positive integer and returns the sum of\n",
        "the cube of all the positive integers smaller than the specified number'''\n",
        "\n",
        "def sum_cubes(n):\n",
        "    t=sum(i**3 for i in range(n))\n",
        "    return(t)\n",
        "\n",
        "num=int(input(\"Enter the value\"))\n",
        "print(sum_cubes(num))"
      ],
      "metadata": {
        "colab": {
          "base_uri": "https://localhost:8080/"
        },
        "id": "dA1Mb0CEbHyv",
        "outputId": "245db14d-bb1d-458e-e26d-8c05451af485"
      },
      "execution_count": 14,
      "outputs": [
        {
          "output_type": "stream",
          "name": "stdout",
          "text": [
            "Enter the value8\n",
            "784\n"
          ]
        }
      ]
    },
    {
      "cell_type": "code",
      "source": [
        "'''5=Write a Python program which iterates from 1 to 10. For multiples of 2, print\n",
        "“Fizz” instead of the number and for the multiples of 5, print “Buzz”. For\n",
        "numbers which are multiples of both 2 and 5, print “FizzBuzz”.'''\n",
        "\n",
        "\n",
        "for num in range(1, 11):\n",
        "\n",
        "    if num%2==0 and num%5==0:\n",
        "      print(\"FIZZBUZZ\")\n",
        "\n",
        "    elif  num%2==0:\n",
        "        print(\"FIZZ\")\n",
        "\n",
        "    elif num%5==0:\n",
        "       print(\"BUZZ\")\n",
        "\n",
        "    else:\n",
        "       print(num)\n",
        "\n"
      ],
      "metadata": {
        "colab": {
          "base_uri": "https://localhost:8080/"
        },
        "id": "1ILzt9TAqP61",
        "outputId": "52211766-ab94-4775-ddae-fab336fa884d"
      },
      "execution_count": 18,
      "outputs": [
        {
          "output_type": "stream",
          "name": "stdout",
          "text": [
            "1\n",
            "FIZZ\n",
            "3\n",
            "FIZZ\n",
            "BUZZ\n",
            "FIZZ\n",
            "7\n",
            "FIZZ\n",
            "9\n",
            "FIZZBUZZ\n"
          ]
        }
      ]
    },
    {
      "cell_type": "code",
      "source": [
        "'''6=Write a Python function to find the most frequent item in a list of numbers. '''\n",
        "\n",
        "lt=[12,15,66,12,45,78,15,12]\n",
        "\n",
        "def frqnt(numbers):\n",
        "    frequent= max(set(numbers), key=numbers.count)\n",
        "    return frequent\n",
        "\n",
        "print(frqnt(lt))\n"
      ],
      "metadata": {
        "colab": {
          "base_uri": "https://localhost:8080/"
        },
        "id": "e1-8Mp2ksWf-",
        "outputId": "9ddf6413-ff4b-456f-e00c-fd66a0acc943"
      },
      "execution_count": 27,
      "outputs": [
        {
          "output_type": "stream",
          "name": "stdout",
          "text": [
            "12\n"
          ]
        }
      ]
    },
    {
      "cell_type": "code",
      "source": [
        "'''7=Write a Python function to find the sum of squares of the numbers in a list.'''\n",
        "lst1=[45,52,63,47,12,44]\n",
        "def sq(lst):\n",
        "  sum=(lst1[0]*lst1[0])+(lst1[1]*lst1[1])+(lst1[2]*lst1[2])+(lst1[3]*lst1[3])+(lst1[4]*lst1[4])+(lst1[5]*lst1[5])\n",
        "  return(sum)\n",
        "\n",
        "print(\"sum of the squares of the numbers : \",sq(lst))"
      ],
      "metadata": {
        "colab": {
          "base_uri": "https://localhost:8080/"
        },
        "id": "E387eokKcU-c",
        "outputId": "2f866437-62f5-4c61-d454-ccb5174cc1f1"
      },
      "execution_count": 35,
      "outputs": [
        {
          "output_type": "stream",
          "name": "stdout",
          "text": [
            "sum of the squares of the numbers :  12987\n"
          ]
        }
      ]
    },
    {
      "cell_type": "code",
      "source": [
        "'''8=Write a Python program using for loop that will iterate from 1 to 15. For each iteration, check if the current number is odd or even, and display the message to the screen as odd or even.'''\n",
        "\n",
        "def even_odd(n):\n",
        "   if n%2==0:\n",
        "     n='even'\n",
        "     return n\n",
        "   else:\n",
        "     s='odd'\n",
        "     return s\n",
        "\n",
        "for y in range(1,16):\n",
        "   print(y,'-',even_odd(y))\n",
        "\n"
      ],
      "metadata": {
        "colab": {
          "base_uri": "https://localhost:8080/"
        },
        "id": "UFSRHnouxLUa",
        "outputId": "c5e0f711-1745-4bf2-d51a-f916967e9318"
      },
      "execution_count": 39,
      "outputs": [
        {
          "output_type": "stream",
          "name": "stdout",
          "text": [
            "1 - odd\n",
            "2 - even\n",
            "3 - odd\n",
            "4 - even\n",
            "5 - odd\n",
            "6 - even\n",
            "7 - odd\n",
            "8 - even\n",
            "9 - odd\n",
            "10 - even\n",
            "11 - odd\n",
            "12 - even\n",
            "13 - odd\n",
            "14 - even\n",
            "15 - odd\n"
          ]
        }
      ]
    },
    {
      "cell_type": "code",
      "source": [
        "'''10=Write a Python function to calculate the factorial of a number (a nonnegative integer). The function accepts the number as an argument.'''\n",
        "\n",
        "import math\n",
        "n=int(input(\"Enter the number to find the factorial\"))\n",
        "def factrl(n):\n",
        "  if n>1:\n",
        "    f=math.factorial(n)\n",
        "    return f\n",
        "  else:\n",
        "    return(\"ERROR!\")\n",
        "\n",
        "print(factrl(n))\n"
      ],
      "metadata": {
        "colab": {
          "base_uri": "https://localhost:8080/"
        },
        "id": "ZLasNoPGxLl_",
        "outputId": "5cd4fcbc-dbc9-4279-dbc2-2a50aa17a60c"
      },
      "execution_count": 33,
      "outputs": [
        {
          "output_type": "stream",
          "name": "stdout",
          "text": [
            "Enter the number to find the factorial-77\n",
            "ERROR!\n"
          ]
        }
      ]
    }
  ]
}